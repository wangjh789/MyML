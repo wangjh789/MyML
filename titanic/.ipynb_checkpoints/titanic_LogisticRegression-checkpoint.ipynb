{
 "cells": [
  {
   "cell_type": "code",
   "execution_count": 1,
   "id": "a5f84416",
   "metadata": {},
   "outputs": [
    {
     "name": "stdout",
     "output_type": "stream",
     "text": [
      "importing Jupyter notebook from titanic_data_preprocessing.ipynb\n",
      "학습 데이터 정보\n",
      "\n",
      "<class 'pandas.core.frame.DataFrame'>\n",
      "RangeIndex: 891 entries, 0 to 890\n",
      "Data columns (total 12 columns):\n",
      " #   Column       Non-Null Count  Dtype  \n",
      "---  ------       --------------  -----  \n",
      " 0   PassengerId  891 non-null    int64  \n",
      " 1   Survived     891 non-null    int64  \n",
      " 2   Pclass       891 non-null    int64  \n",
      " 3   Name         891 non-null    object \n",
      " 4   Sex          891 non-null    object \n",
      " 5   Age          714 non-null    float64\n",
      " 6   SibSp        891 non-null    int64  \n",
      " 7   Parch        891 non-null    int64  \n",
      " 8   Ticket       891 non-null    object \n",
      " 9   Fare         891 non-null    float64\n",
      " 10  Cabin        204 non-null    object \n",
      " 11  Embarked     889 non-null    object \n",
      "dtypes: float64(2), int64(5), object(5)\n",
      "memory usage: 83.7+ KB\n",
      "None\n",
      "Sex 값 분포 : \n",
      " male      577\n",
      "female    314\n",
      "Name: Sex, dtype: int64\n",
      "\n",
      "Cabin 값 분포 : \n",
      " N              687\n",
      "B96 B98          4\n",
      "C23 C25 C27      4\n",
      "G6               4\n",
      "D                3\n",
      "              ... \n",
      "C47              1\n",
      "A5               1\n",
      "E10              1\n",
      "C45              1\n",
      "C86              1\n",
      "Name: Cabin, Length: 148, dtype: int64\n",
      "\n",
      "Embarked 값 분포 : \n",
      " S    644\n",
      "C    168\n",
      "Q     77\n",
      "N      2\n",
      "Name: Embarked, dtype: int64\n",
      "N    687\n",
      "C     59\n",
      "B     47\n",
      "D     33\n",
      "E     32\n",
      "A     15\n",
      "F     13\n",
      "G      4\n",
      "T      1\n",
      "Name: Cabin, dtype: int64\n",
      "<class 'pandas.core.frame.DataFrame'>\n",
      "RangeIndex: 891 entries, 0 to 890\n",
      "Data columns (total 9 columns):\n",
      " #   Column    Non-Null Count  Dtype  \n",
      "---  ------    --------------  -----  \n",
      " 0   Survived  891 non-null    int64  \n",
      " 1   Pclass    891 non-null    int64  \n",
      " 2   Sex       891 non-null    int64  \n",
      " 3   Age       891 non-null    float64\n",
      " 4   SibSp     891 non-null    int64  \n",
      " 5   Parch     891 non-null    int64  \n",
      " 6   Fare      891 non-null    float64\n",
      " 7   Cabin     891 non-null    int64  \n",
      " 8   Embarked  891 non-null    int64  \n",
      "dtypes: float64(2), int64(7)\n",
      "memory usage: 62.8 KB\n"
     ]
    }
   ],
   "source": [
    "import import_ipynb\n",
    "from titanic_data_preprocessing import get_titanic_dataset\n",
    "\n",
    "titanic_data = get_titanic_dataset()\n",
    "titanic_data.info()"
   ]
  },
  {
   "cell_type": "code",
   "execution_count": 12,
   "id": "9dfe8d16",
   "metadata": {},
   "outputs": [
    {
     "data": {
      "text/html": [
       "<div>\n",
       "<style scoped>\n",
       "    .dataframe tbody tr th:only-of-type {\n",
       "        vertical-align: middle;\n",
       "    }\n",
       "\n",
       "    .dataframe tbody tr th {\n",
       "        vertical-align: top;\n",
       "    }\n",
       "\n",
       "    .dataframe thead th {\n",
       "        text-align: right;\n",
       "    }\n",
       "</style>\n",
       "<table border=\"1\" class=\"dataframe\">\n",
       "  <thead>\n",
       "    <tr style=\"text-align: right;\">\n",
       "      <th></th>\n",
       "      <th>Pclass</th>\n",
       "      <th>Sex</th>\n",
       "      <th>Age</th>\n",
       "      <th>SibSp</th>\n",
       "      <th>Parch</th>\n",
       "      <th>Fare</th>\n",
       "      <th>Cabin</th>\n",
       "    </tr>\n",
       "  </thead>\n",
       "  <tbody>\n",
       "    <tr>\n",
       "      <th>0</th>\n",
       "      <td>3</td>\n",
       "      <td>1</td>\n",
       "      <td>22.0</td>\n",
       "      <td>1</td>\n",
       "      <td>0</td>\n",
       "      <td>7.2500</td>\n",
       "      <td>7</td>\n",
       "    </tr>\n",
       "    <tr>\n",
       "      <th>1</th>\n",
       "      <td>1</td>\n",
       "      <td>0</td>\n",
       "      <td>38.0</td>\n",
       "      <td>1</td>\n",
       "      <td>0</td>\n",
       "      <td>71.2833</td>\n",
       "      <td>2</td>\n",
       "    </tr>\n",
       "    <tr>\n",
       "      <th>2</th>\n",
       "      <td>3</td>\n",
       "      <td>0</td>\n",
       "      <td>26.0</td>\n",
       "      <td>0</td>\n",
       "      <td>0</td>\n",
       "      <td>7.9250</td>\n",
       "      <td>7</td>\n",
       "    </tr>\n",
       "    <tr>\n",
       "      <th>3</th>\n",
       "      <td>1</td>\n",
       "      <td>0</td>\n",
       "      <td>35.0</td>\n",
       "      <td>1</td>\n",
       "      <td>0</td>\n",
       "      <td>53.1000</td>\n",
       "      <td>2</td>\n",
       "    </tr>\n",
       "    <tr>\n",
       "      <th>4</th>\n",
       "      <td>3</td>\n",
       "      <td>1</td>\n",
       "      <td>35.0</td>\n",
       "      <td>0</td>\n",
       "      <td>0</td>\n",
       "      <td>8.0500</td>\n",
       "      <td>7</td>\n",
       "    </tr>\n",
       "  </tbody>\n",
       "</table>\n",
       "</div>"
      ],
      "text/plain": [
       "   Pclass  Sex   Age  SibSp  Parch     Fare  Cabin\n",
       "0       3    1  22.0      1      0   7.2500      7\n",
       "1       1    0  38.0      1      0  71.2833      2\n",
       "2       3    0  26.0      0      0   7.9250      7\n",
       "3       1    0  35.0      1      0  53.1000      2\n",
       "4       3    1  35.0      0      0   8.0500      7"
      ]
     },
     "execution_count": 12,
     "metadata": {},
     "output_type": "execute_result"
    }
   ],
   "source": [
    "titanic_features = titanic_data.iloc[:,1:-1]\n",
    "titanic_labels = titanic_data.iloc[:,0]"
   ]
  },
  {
   "cell_type": "code",
   "execution_count": 3,
   "id": "dce523d7",
   "metadata": {},
   "outputs": [],
   "source": [
    "from sklearn.model_selection import train_test_split\n",
    "\n",
    "X_train, X_test, y_train, y_test = train_test_split(titanic_features,titanic_labels, test_size=0.2, random_state=11)"
   ]
  },
  {
   "cell_type": "code",
   "execution_count": 13,
   "id": "30438fb4",
   "metadata": {},
   "outputs": [
    {
     "data": {
      "text/plain": [
       "pandas.core.frame.DataFrame"
      ]
     },
     "execution_count": 13,
     "metadata": {},
     "output_type": "execute_result"
    }
   ],
   "source": [
    "from sklearn.linear_model import LogisticRegression\n",
    "\n",
    "lr_clf = LogisticRegression()\n",
    "\n",
    "lr_clf.fit(X_train,y_train)\n",
    "pred = lr_clf.predict(X_test)\n",
    "pred_proba = lr_clf.predict_proba(X_test)[:,1]"
   ]
  },
  {
   "cell_type": "code",
   "execution_count": 5,
   "id": "400bd972",
   "metadata": {},
   "outputs": [
    {
     "name": "stdout",
     "output_type": "stream",
     "text": [
      "오차 행렬\n",
      "[[104  14]\n",
      " [ 13  48]]\n",
      "정확도: 0.8492, 정밀도: 0.7742, 재현율:0.7869    ,F1: 0.7805, AUC: 0.8999,\n"
     ]
    }
   ],
   "source": [
    "import sys\n",
    "import os\n",
    "from pathlib import Path\n",
    "libpath = os.path.join(Path.cwd().parent)\n",
    "sys.path.append(libpath)\n",
    "import import_ipynb\n",
    "from utils import get_clf_eval\n",
    "\n",
    "get_clf_eval(y_test,pred,pred_proba)"
   ]
  },
  {
   "cell_type": "markdown",
   "id": "0fe3275b",
   "metadata": {},
   "source": [
    "#### 정확도 : TN + TP / 전체\n",
    "#### 정밀도 : TP / FP + TP => FP 의 발생확률을 줄여야 할때 (스팸 메세지)\n",
    "#### 재현율 : TP / FN+TP => FN 의 발생확률을 줄여야 할때 (암 악성 판정)\n",
    "#### F1 : 정밀도와 재현율이 비등할때 높음\n",
    "#### AUC : FPR 에 변할때 TPR 이 어떻게 변하는지 보여주는 곡선"
   ]
  },
  {
   "cell_type": "code",
   "execution_count": 6,
   "id": "957027d3",
   "metadata": {},
   "outputs": [
    {
     "data": {
      "image/png": "[encoded data removed]",
      "text/plain": [
       "<Figure size 576x432 with 1 Axes>"
      ]
     },
     "metadata": {
      "needs_background": "light"
     },
     "output_type": "display_data"
    }
   ],
   "source": [
    "from sklearn.metrics import precision_recall_curve\n",
    "import matplotlib.pyplot as plt\n",
    "import numpy as np\n",
    "\n",
    "def precision_recall_curve_plot(y_test,pred_proba):\n",
    "    precisions, recalls, thresholds = precision_recall_curve(y_test,pred_proba)\n",
    "    \n",
    "    plt.figure(figsize=(8,6))\n",
    "    threshold_boundary = thresholds.shape[0]\n",
    "    plt.plot(thresholds, precisions[0:threshold_boundary],linestyle='--',label='precision')\n",
    "    plt.plot(thresholds, recalls[0:threshold_boundary],label='recall')\n",
    "    \n",
    "    start,end = plt.xlim()\n",
    "    plt.xticks(np.round(np.arange(start,end,0.1),2))\n",
    "    \n",
    "    plt.xlabel(\"Threshold value\");plt.ylabel('Precision and Recall values')\n",
    "    plt.legend(); plt.grid()\n",
    "    plt.show()\n",
    "    \n",
    "precision_recall_curve_plot(y_test,pred_proba)"
   ]
  },
  {
   "cell_type": "markdown",
   "id": "10304f1d",
   "metadata": {},
   "source": [
    "#### precision_recall_curve 를 사용해서 적절한 임곗값을 찾아 정밀도와 재현율을 조정한다."
   ]
  },
  {
   "cell_type": "code",
   "execution_count": 28,
   "id": "2c081ccb",
   "metadata": {},
   "outputs": [
    {
     "data": {
      "text/plain": [
       "array([[0.35472876, 0.64527124]])"
      ]
     },
     "execution_count": 28,
     "metadata": {},
     "output_type": "execute_result"
    }
   ],
   "source": [
    "import numpy as np\n",
    "\n",
    "myself = np.array([1,1,25.0,0,0,0,0]).reshape(1, -1)\n",
    "pred_myself = lr_clf.predict_proba(myself)\n",
    "pred_myself"
   ]
  },
  {
   "cell_type": "code",
   "execution_count": 32,
   "id": "f7095784",
   "metadata": {},
   "outputs": [
    {
     "data": {
      "text/plain": [
       "array([[0.56910944, 0.43089056]])"
      ]
     },
     "execution_count": 32,
     "metadata": {},
     "output_type": "execute_result"
    }
   ],
   "source": [
    "myself = np.array([1,1,50.0,0,0,0,0]).reshape(1, -1)\n",
    "pred_myself = lr_clf.predict_proba(myself)\n",
    "pred_myself"
   ]
  },
  {
   "cell_type": "markdown",
   "id": "68befa02",
   "metadata": {},
   "source": [
    "#### 현재의 나는 64% 의 확률로 생존하고 나중에 50세가 되면 56%의 확률로 생존하지 못한다."
   ]
  },
  {
   "cell_type": "code",
   "execution_count": null,
   "id": "6b24bf04",
   "metadata": {},
   "outputs": [],
   "source": []
  }
 ],
 "metadata": {
  "kernelspec": {
   "display_name": "Python 3",
   "language": "python",
   "name": "python3"
  },
  "language_info": {
   "codemirror_mode": {
    "name": "ipython",
    "version": 3
   },
   "file_extension": ".py",
   "mimetype": "text/x-python",
   "name": "python",
   "nbconvert_exporter": "python",
   "pygments_lexer": "ipython3",
   "version": "3.8.2"
  }
 },
 "nbformat": 4,
 "nbformat_minor": 5
}
