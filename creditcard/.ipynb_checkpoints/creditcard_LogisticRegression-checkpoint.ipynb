{
 "cells": [
  {
   "cell_type": "code",
   "execution_count": 9,
   "id": "c9c56a46",
   "metadata": {},
   "outputs": [],
   "source": [
    "from sklearn.linear_model import LogisticRegression\n",
    "import import_ipynb\n",
    "from creditcard_data_preprocessing import get_creditcard_dataset\n",
    "\n",
    "X_train, X_test, y_train, y_test = get_creditcard_dataset()"
   ]
  },
  {
   "cell_type": "code",
   "execution_count": 10,
   "id": "4466ec9e",
   "metadata": {},
   "outputs": [],
   "source": [
    "lr_clf = LogisticRegression()\n",
    "lr_clf.fit(X_train,y_train)\n",
    "lr_pred = lr_clf.predict(X_test)\n",
    "lr_pred_proba = lr_clf.predict_proba(X_test)[:,1]"
   ]
  },
  {
   "cell_type": "code",
   "execution_count": 11,
   "id": "77ad6b85",
   "metadata": {},
   "outputs": [
    {
     "name": "stdout",
     "output_type": "stream",
     "text": [
      "오차 행렬\n",
      "[[85276    19]\n",
      " [   53    95]]\n",
      "정확도: 0.9992, 정밀도: 0.8333, 재현율:0.6419    ,F1: 0.7252, AUC: 0.9627,\n"
     ]
    }
   ],
   "source": [
    "import sys\n",
    "sys.path.append(\"..\")\n",
    "from utils import *\n",
    "\n",
    "get_clf_eval(y_test,lr_pred,lr_pred_proba)"
   ]
  }
 ],
 "metadata": {
  "kernelspec": {
   "display_name": "Python 3",
   "language": "python",
   "name": "python3"
  },
  "language_info": {
   "codemirror_mode": {
    "name": "ipython",
    "version": 3
   },
   "file_extension": ".py",
   "mimetype": "text/x-python",
   "name": "python",
   "nbconvert_exporter": "python",
   "pygments_lexer": "ipython3",
   "version": "3.8.2"
  }
 },
 "nbformat": 4,
 "nbformat_minor": 5
}
