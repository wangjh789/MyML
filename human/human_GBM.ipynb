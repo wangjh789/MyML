{
 "cells": [
  {
   "cell_type": "code",
   "execution_count": 1,
   "id": "bb30b7c0",
   "metadata": {},
   "outputs": [
    {
     "name": "stdout",
     "output_type": "stream",
     "text": [
      "importing Jupyter notebook from human_data_preprocessing.ipynb\n",
      "<class 'pandas.core.frame.DataFrame'>\n",
      "column_index    42\n",
      "dtype: int64\n",
      "<class 'pandas.core.frame.DataFrame'>\n",
      "RangeIndex: 7352 entries, 0 to 7351\n",
      "Columns: 561 entries, tBodyAcc-mean()-X to angle(Z,gravityMean)\n",
      "dtypes: float64(561)\n",
      "memory usage: 31.5 MB\n",
      "GBM 정확도: 0.9393\n",
      "GBM 수행시간 : 680.5\n"
     ]
    }
   ],
   "source": [
    "from sklearn.ensemble import GradientBoostingClassifier\n",
    "import time\n",
    "import warnings\n",
    "warnings.filterwarnings('ignore')\n",
    "import import_ipynb\n",
    "from human_data_preprocessing import get_human_dataset\n",
    "from sklearn.metrics import accuracy_score\n",
    "\n",
    "X_train, X_test, y_train, y_test = get_human_dataset()\n",
    "\n",
    "start_time = time.time()\n",
    "gb_clf = GradientBoostingClassifier(random_state=0)\n",
    "gb_clf.fit(X_train,y_train)\n",
    "gb_pred = gb_clf.predict(X_test)\n",
    "gb_accuracy = accuracy_score(y_test,gb_pred)\n",
    "\n",
    "print('GBM 정확도: {0:.4f}'.format(gb_accuracy))\n",
    "print(\"GBM 수행시간 : {0:.1f}\".format(time.time()-start_time))"
   ]
  },
  {
   "cell_type": "markdown",
   "id": "a657d52f",
   "metadata": {},
   "source": [
    "#### 예측성능이 뛰어나지만 수행시간이 타 알고리즘 보다 오래 걸린다. 가중치 적용을 위한 순차적 실행으로 병렬실행이 불가능하다. \n",
    "#### 오류값 = 실제 값 - 예측 값 , GBM 알고리즘은 가중치를 적용해 오류값 최소화를 목표로 한다. "
   ]
  },
  {
   "cell_type": "markdown",
   "id": "05904644",
   "metadata": {},
   "source": [
    "#### GridSearchCV 로 최적의 하이퍼 파라미터 값을 찾는다.  "
   ]
  },
  {
   "cell_type": "code",
   "execution_count": null,
   "id": "7296341a",
   "metadata": {},
   "outputs": [
    {
     "name": "stdout",
     "output_type": "stream",
     "text": [
      "Fitting 2 folds for each of 4 candidates, totalling 8 fits\n"
     ]
    }
   ],
   "source": [
    "from sklearn.model_selection import GridSearchCV\n",
    "\n",
    "params={\n",
    "    'n_estimators':[100,500],\n",
    "    'learning_rate':[0.05,0.1]\n",
    "}\n",
    "\n",
    "grid_cv=GridSearchCV(gb_clf, param_grid=params, cv=2, verbose=1)\n",
    "grid_cv.fit(X_train,y_train)\n",
    "print(\"최적 하이퍼 파라미터 :\\n\",grid_cv.best_params_)\n",
    "print(\"최고 예측 정확도: {0:.4f}\".format(grid_cv.best_score_))"
   ]
  },
  {
   "cell_type": "markdown",
   "id": "a57d6040",
   "metadata": {},
   "source": [
    "#### 찾은 파라미터 셋으로 예측 수행"
   ]
  },
  {
   "cell_type": "code",
   "execution_count": null,
   "id": "712b5f31",
   "metadata": {},
   "outputs": [],
   "source": [
    "gb_pred = grid_cv.best_estimator_.predict(X_test)\n",
    "gb_accuracy = accuracy_score(y_test, gb_pred)\n",
    "print(\"GBM 정확도: {0:.4f}\".format(gb_accuracy))"
   ]
  }
 ],
 "metadata": {
  "kernelspec": {
   "display_name": "Python 3",
   "language": "python",
   "name": "python3"
  },
  "language_info": {
   "codemirror_mode": {
    "name": "ipython",
    "version": 3
   },
   "file_extension": ".py",
   "mimetype": "text/x-python",
   "name": "python",
   "nbconvert_exporter": "python",
   "pygments_lexer": "ipython3",
   "version": "3.8.2"
  }
 },
 "nbformat": 4,
 "nbformat_minor": 5
}
