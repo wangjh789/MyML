{
 "cells": [
  {
   "cell_type": "markdown",
   "id": "321ebc52",
   "metadata": {},
   "source": [
    "KNeighbors, RandomForest, AdaBoost, DecisionTree 알고리즘을 기반모델로써 사용하고, LogisticRegression 을 최종 메타 모델로 사용한다."
   ]
  },
  {
   "cell_type": "code",
   "execution_count": 6,
   "id": "8ce0104f",
   "metadata": {},
   "outputs": [],
   "source": [
    "import numpy as np\n",
    "\n",
    "from sklearn.neighbors import KNeighborsClassifier\n",
    "from sklearn.ensemble import RandomForestClassifier\n",
    "from sklearn.ensemble import AdaBoostClassifier\n",
    "from sklearn.tree import DecisionTreeClassifier\n",
    "from sklearn.linear_model import LogisticRegression\n",
    "\n",
    "import import_ipynb\n",
    "from cancer_data_preprocessing import get_cancer_dataset\n",
    "from sklearn.metrics import accuracy_score\n",
    "\n",
    "X_train,X_test,y_train,y_test = get_cancer_dataset()"
   ]
  },
  {
   "cell_type": "code",
   "execution_count": 10,
   "id": "bbaf7383",
   "metadata": {},
   "outputs": [],
   "source": [
    "knn_clf = KNeighborsClassifier(n_neighbors=4)\n",
    "rf_clf = RandomForestClassifier(n_estimators=100, random_state=0)\n",
    "dt_clf = DecisionTreeClassifier()\n",
    "ada_clf = AdaBoostClassifier(n_estimators=100)\n",
    "\n",
    "lr_final = LogisticRegression(C=10)"
   ]
  },
  {
   "cell_type": "code",
   "execution_count": 11,
   "id": "0f8d3c27",
   "metadata": {},
   "outputs": [
    {
     "data": {
      "text/plain": [
       "AdaBoostClassifier(n_estimators=100)"
      ]
     },
     "execution_count": 11,
     "metadata": {},
     "output_type": "execute_result"
    }
   ],
   "source": [
    "knn_clf.fit(X_train,y_train)\n",
    "rf_clf.fit(X_train,y_train)\n",
    "dt_clf.fit(X_train,y_train)\n",
    "ada_clf.fit(X_train,y_train)"
   ]
  },
  {
   "cell_type": "code",
   "execution_count": 14,
   "id": "9f0414fd",
   "metadata": {},
   "outputs": [
    {
     "name": "stdout",
     "output_type": "stream",
     "text": [
      "KNN 정확도 : 0.9211\n",
      "랜덤 포레스트 정확도 : 0.9561\n",
      "결정 트리 정확도 : 0.9386\n",
      "에이다부스트 정확도 : 0.9386\n"
     ]
    }
   ],
   "source": [
    "knn_pred = knn_clf.predict(X_test)\n",
    "rf_pred = rf_clf.predict(X_test)\n",
    "dt_pred = dt_clf.predict(X_test)\n",
    "ada_pred = ada_clf.predict(X_test)\n",
    "\n",
    "print(\"KNN 정확도 : {0:.4f}\".format(accuracy_score(y_test,knn_pred)))\n",
    "print(\"랜덤 포레스트 정확도 : {0:.4f}\".format(accuracy_score(y_test,rf_pred)))\n",
    "print(\"결정 트리 정확도 : {0:.4f}\".format(accuracy_score(y_test,dt_pred)))\n",
    "print(\"에이다부스트 정확도 : {0:.4f}\".format(accuracy_score(y_test,dt_pred)))"
   ]
  },
  {
   "cell_type": "markdown",
   "id": "c71b8927",
   "metadata": {},
   "source": [
    "#### 개별 알고리즘에서 예측된 예측값을 칼럼레벨로 피처값을 만들어, 로지스틱 회귀에서의 학습 데이터로 사용한다."
   ]
  },
  {
   "cell_type": "code",
   "execution_count": 16,
   "id": "81a88914",
   "metadata": {},
   "outputs": [
    {
     "name": "stdout",
     "output_type": "stream",
     "text": [
      "(4, 114)\n",
      "(114, 4)\n"
     ]
    }
   ],
   "source": [
    "pred = np.array([knn_pred,rf_pred, dt_pred, ada_pred])\n",
    "print(pred.shape)\n",
    "\n",
    "pred = np.transpose(pred)\n",
    "print(pred.shape)"
   ]
  },
  {
   "cell_type": "code",
   "execution_count": 18,
   "id": "9435c3ee",
   "metadata": {},
   "outputs": [
    {
     "name": "stdout",
     "output_type": "stream",
     "text": [
      "최종 메타 모델의 예측 정확도: 0.9649\n"
     ]
    }
   ],
   "source": [
    "lr_final.fit(pred, y_test)\n",
    "final = lr_final.predict(pred)\n",
    "\n",
    "print(\"최종 메타 모델의 예측 정확도: {0:.4f}\".format(accuracy_score(y_test,final)))"
   ]
  },
  {
   "cell_type": "code",
   "execution_count": null,
   "id": "f5b4accb",
   "metadata": {},
   "outputs": [],
   "source": []
  }
 ],
 "metadata": {
  "kernelspec": {
   "display_name": "Python 3",
   "language": "python",
   "name": "python3"
  },
  "language_info": {
   "codemirror_mode": {
    "name": "ipython",
    "version": 3
   },
   "file_extension": ".py",
   "mimetype": "text/x-python",
   "name": "python",
   "nbconvert_exporter": "python",
   "pygments_lexer": "ipython3",
   "version": "3.8.2"
  }
 },
 "nbformat": 4,
 "nbformat_minor": 5
}
