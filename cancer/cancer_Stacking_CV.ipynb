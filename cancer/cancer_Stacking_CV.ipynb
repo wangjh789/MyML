{
 "cells": [
  {
   "cell_type": "code",
   "execution_count": 1,
   "id": "c9a66550",
   "metadata": {},
   "outputs": [
    {
     "name": "stdout",
     "output_type": "stream",
     "text": [
      "importing Jupyter notebook from cancer_data_preprocessing.ipynb\n",
      "['malignant' 'benign']\n",
      "1    357\n",
      "0    212\n",
      "Name: target, dtype: int64\n"
     ]
    }
   ],
   "source": [
    "import numpy as np\n",
    "\n",
    "from sklearn.neighbors import KNeighborsClassifier\n",
    "from sklearn.ensemble import RandomForestClassifier\n",
    "from sklearn.ensemble import AdaBoostClassifier\n",
    "from sklearn.tree import DecisionTreeClassifier\n",
    "from sklearn.linear_model import LogisticRegression\n",
    "\n",
    "import import_ipynb\n",
    "from cancer_data_preprocessing import get_cancer_dataset\n",
    "from sklearn.metrics import accuracy_score\n",
    "\n",
    "X_train,X_test,y_train,y_test = get_cancer_dataset()"
   ]
  },
  {
   "cell_type": "code",
   "execution_count": 2,
   "id": "35dc8310",
   "metadata": {},
   "outputs": [],
   "source": [
    "knn_clf = KNeighborsClassifier(n_neighbors=4)\n",
    "rf_clf = RandomForestClassifier(n_estimators=100, random_state=0)\n",
    "dt_clf = DecisionTreeClassifier()\n",
    "ada_clf = AdaBoostClassifier(n_estimators=100)\n",
    "\n",
    "lr_final = LogisticRegression(C=10)"
   ]
  },
  {
   "cell_type": "code",
   "execution_count": 17,
   "id": "d7bdd6bd",
   "metadata": {},
   "outputs": [],
   "source": [
    "from sklearn.model_selection import KFold\n",
    "from sklearn.metrics import mean_absolute_error\n",
    "\n",
    "def get_stacking_base_datasets(model, X_train_n, y_train_n, X_test_n, n_folds):\n",
    "    kf = KFold(n_splits=n_folds, shuffle=False)\n",
    "    \n",
    "    train_fold_pred = np.zeros((X_train_n.shape[0],1))\n",
    "    test_pred = np.zeros((X_test_n.shape[0], n_folds))\n",
    "    print(model.__class__.__name__, ' model 시작')\n",
    "    \n",
    "    for folder_counter, (train_index, valid_index) in enumerate(kf.split(X_train_n)):\n",
    "        print(\"\\t 폴드 세트 :\",folder_counter, \"시작\")\n",
    "        X_tr = X_train_n[train_index]\n",
    "        y_tr = y_train_n[train_index]\n",
    "        X_te = X_train_n[valid_index]\n",
    "        \n",
    "        model.fit(X_tr, y_tr)\n",
    "        \n",
    "        train_fold_pred[valid_index,:] = model.predict(X_te).reshape(-1,1)\n",
    "        test_pred[:,folder_counter] = model.predict(X_test_n)\n",
    "        \n",
    "    test_pred_mean = np.mean(test_pred, axis=1).reshape(-1,1)\n",
    "    \n",
    "    return train_fold_pred, test_pred_mean"
   ]
  },
  {
   "cell_type": "code",
   "execution_count": 18,
   "id": "c7574606",
   "metadata": {},
   "outputs": [
    {
     "name": "stdout",
     "output_type": "stream",
     "text": [
      "KNeighborsClassifier  model 시작\n",
      "\t 폴드 세트 : 0 시작\n",
      "\t 폴드 세트 : 1 시작\n",
      "\t 폴드 세트 : 2 시작\n",
      "\t 폴드 세트 : 3 시작\n",
      "\t 폴드 세트 : 4 시작\n",
      "\t 폴드 세트 : 5 시작\n",
      "\t 폴드 세트 : 6 시작\n",
      "KNeighborsClassifier  model 시작\n",
      "\t 폴드 세트 : 0 시작\n",
      "\t 폴드 세트 : 1 시작\n",
      "\t 폴드 세트 : 2 시작\n",
      "\t 폴드 세트 : 3 시작\n",
      "\t 폴드 세트 : 4 시작\n",
      "\t 폴드 세트 : 5 시작\n",
      "\t 폴드 세트 : 6 시작\n",
      "KNeighborsClassifier  model 시작\n",
      "\t 폴드 세트 : 0 시작\n",
      "\t 폴드 세트 : 1 시작\n",
      "\t 폴드 세트 : 2 시작\n",
      "\t 폴드 세트 : 3 시작\n",
      "\t 폴드 세트 : 4 시작\n",
      "\t 폴드 세트 : 5 시작\n",
      "\t 폴드 세트 : 6 시작\n",
      "KNeighborsClassifier  model 시작\n",
      "\t 폴드 세트 : 0 시작\n",
      "\t 폴드 세트 : 1 시작\n",
      "\t 폴드 세트 : 2 시작\n",
      "\t 폴드 세트 : 3 시작\n",
      "\t 폴드 세트 : 4 시작\n",
      "\t 폴드 세트 : 5 시작\n",
      "\t 폴드 세트 : 6 시작\n"
     ]
    }
   ],
   "source": [
    "knn_train, knn_test = get_stacking_base_datasets(knn_clf, X_train, y_train, X_test, 7)\n",
    "rf_train, rf_test = get_stacking_base_datasets(knn_clf, X_train, y_train, X_test, 7)\n",
    "dt_train, dt_test = get_stacking_base_datasets(knn_clf, X_train, y_train, X_test, 7)\n",
    "ada_train, ada_test = get_stacking_base_datasets(knn_clf, X_train, y_train, X_test, 7)"
   ]
  },
  {
   "cell_type": "code",
   "execution_count": 11,
   "id": "d8af0693",
   "metadata": {},
   "outputs": [
    {
     "name": "stdout",
     "output_type": "stream",
     "text": [
      "원본 학습 피처 데이터 Shape: (455, 30) 원본 테스트 피처 Shape: (114, 30)\n",
      "스태킹 학습 피처 데이터 Shape: (455, 4) 스태킹 테스트 피처 데이터 Shape: (114, 4)\n"
     ]
    }
   ],
   "source": [
    "Stack_final_X_train = np.concatenate((knn_train,rf_train,dt_train,ada_train), axis=1)\n",
    "Stack_final_X_test = np.concatenate((knn_test, rf_test, dt_test, ada_test), axis=1)\n",
    "print(\"원본 학습 피처 데이터 Shape:\",X_train.shape, '원본 테스트 피처 Shape:',X_test.shape)\n",
    "print(\"스태킹 학습 피처 데이터 Shape:\",Stack_final_X_train.shape, \"스태킹 테스트 피처 데이터 Shape:\",Stack_final_X_test.shape)"
   ]
  },
  {
   "cell_type": "code",
   "execution_count": 12,
   "id": "36515ebc",
   "metadata": {},
   "outputs": [
    {
     "name": "stdout",
     "output_type": "stream",
     "text": [
      "최종 메타 모델의 예측 정확도 : 0.9211\n"
     ]
    }
   ],
   "source": [
    "lr_final.fit(Stack_final_X_train, y_train)\n",
    "stack_final = lr_final.predict(Stack_final_X_test)\n",
    "\n",
    "print(\"최종 메타 모델의 예측 정확도 : {0:.4f}\".format(accuracy_score(y_test, stack_final)))"
   ]
  },
  {
   "cell_type": "code",
   "execution_count": null,
   "id": "0e5953ff",
   "metadata": {},
   "outputs": [],
   "source": []
  }
 ],
 "metadata": {
  "kernelspec": {
   "display_name": "Python 3",
   "language": "python",
   "name": "python3"
  },
  "language_info": {
   "codemirror_mode": {
    "name": "ipython",
    "version": 3
   },
   "file_extension": ".py",
   "mimetype": "text/x-python",
   "name": "python",
   "nbconvert_exporter": "python",
   "pygments_lexer": "ipython3",
   "version": "3.8.2"
  }
 },
 "nbformat": 4,
 "nbformat_minor": 5
}
