{
 "cells": [
  {
   "cell_type": "code",
   "execution_count": 3,
   "id": "09989883",
   "metadata": {},
   "outputs": [],
   "source": [
    "from sklearn.preprocessing import StandardScaler\n",
    "from sklearn.datasets import load_iris\n",
    "import pandas as pd\n",
    "import numpy as np\n",
    "\n",
    "iris_data = load_iris()\n",
    "iris_features = pd.DataFrame(iris_data.data, columns=iris_data.feature_names)"
   ]
  },
  {
   "cell_type": "markdown",
   "id": "898614a8",
   "metadata": {},
   "source": [
    "타겟 컬럼을 제외한 피처 컬럼들을 정규화 한다."
   ]
  },
  {
   "cell_type": "code",
   "execution_count": 5,
   "id": "ea8f55a6",
   "metadata": {},
   "outputs": [],
   "source": [
    "iris_scaled = StandardScaler().fit_transform(iris_features.iloc[:,:-1])"
   ]
  },
  {
   "cell_type": "markdown",
   "id": "17e64359",
   "metadata": {},
   "source": [
    "피처들을 가지고 2차원으로 차원 축소를 진행한다."
   ]
  },
  {
   "cell_type": "code",
   "execution_count": 8,
   "id": "051cab21",
   "metadata": {},
   "outputs": [
    {
     "name": "stdout",
     "output_type": "stream",
     "text": [
      "(150, 2)\n"
     ]
    }
   ],
   "source": [
    "from sklearn.decomposition import PCA\n",
    "\n",
    "pca = PCA(n_components=2)\n",
    "\n",
    "pca.fit(iris_scaled)\n",
    "iris_pca= pca.transform(iris_scaled)\n",
    "print(iris_pca.shape)"
   ]
  },
  {
   "cell_type": "code",
   "execution_count": 10,
   "id": "d000afd1",
   "metadata": {},
   "outputs": [
    {
     "data": {
      "text/html": [
       "<div>\n",
       "<style scoped>\n",
       "    .dataframe tbody tr th:only-of-type {\n",
       "        vertical-align: middle;\n",
       "    }\n",
       "\n",
       "    .dataframe tbody tr th {\n",
       "        vertical-align: top;\n",
       "    }\n",
       "\n",
       "    .dataframe thead th {\n",
       "        text-align: right;\n",
       "    }\n",
       "</style>\n",
       "<table border=\"1\" class=\"dataframe\">\n",
       "  <thead>\n",
       "    <tr style=\"text-align: right;\">\n",
       "      <th></th>\n",
       "      <th>pca_component1</th>\n",
       "      <th>pca_component2</th>\n",
       "      <th>target</th>\n",
       "    </tr>\n",
       "  </thead>\n",
       "  <tbody>\n",
       "    <tr>\n",
       "      <th>0</th>\n",
       "      <td>-1.857165</td>\n",
       "      <td>0.424131</td>\n",
       "      <td>0</td>\n",
       "    </tr>\n",
       "    <tr>\n",
       "      <th>1</th>\n",
       "      <td>-1.593939</td>\n",
       "      <td>-0.714558</td>\n",
       "      <td>0</td>\n",
       "    </tr>\n",
       "    <tr>\n",
       "      <th>2</th>\n",
       "      <td>-1.951778</td>\n",
       "      <td>-0.410390</td>\n",
       "      <td>0</td>\n",
       "    </tr>\n",
       "  </tbody>\n",
       "</table>\n",
       "</div>"
      ],
      "text/plain": [
       "   pca_component1  pca_component2  target\n",
       "0       -1.857165        0.424131       0\n",
       "1       -1.593939       -0.714558       0\n",
       "2       -1.951778       -0.410390       0"
      ]
     },
     "execution_count": 10,
     "metadata": {},
     "output_type": "execute_result"
    }
   ],
   "source": [
    "pca_columns = ['pca_component1','pca_component2']\n",
    "irisDF_pca = pd.DataFrame(iris_pca, columns=pca_columns)\n",
    "irisDF_pca['target'] = iris_data.target\n",
    "irisDF_pca.head(3)"
   ]
  },
  {
   "cell_type": "markdown",
   "id": "351beed9",
   "metadata": {},
   "source": [
    "차원축소 결과값들을 시각화한다."
   ]
  },
  {
   "cell_type": "code",
   "execution_count": 17,
   "id": "41382f02",
   "metadata": {},
   "outputs": [
    {
     "data": {
      "image/png": "[encoded data removed]",
      "text/plain": [
       "<Figure size 432x288 with 1 Axes>"
      ]
     },
     "metadata": {
      "needs_background": "light"
     },
     "output_type": "display_data"
    }
   ],
   "source": [
    "import matplotlib.pyplot as plt\n",
    "\n",
    "markers = ['^','s','o']\n",
    "\n",
    "for i, marker in enumerate(markers):\n",
    "    x_axis_data = irisDF_pca[irisDF_pca['target']==i]['pca_component1']\n",
    "    y_axis_data = irisDF_pca[irisDF_pca['target']==i]['pca_component2']\n",
    "    plt.scatter(x_axis_data, y_axis_data, marker=marker,label=iris_data.target_names[i])\n",
    "\n",
    "plt.legend()\n",
    "plt.xlabel('pca_component1')\n",
    "plt.ylabel('pca_component2')\n",
    "\n",
    "plt.show()"
   ]
  },
  {
   "cell_type": "markdown",
   "id": "c3d0ef84",
   "metadata": {},
   "source": [
    "pca_component1 을 기준으로 품종들이 비교적 잘 구분 되었다. component 별로 원본 데이터의 변동성을 얼마나 반영하는지 알아보겠다."
   ]
  },
  {
   "cell_type": "code",
   "execution_count": 18,
   "id": "bbf3943e",
   "metadata": {},
   "outputs": [
    {
     "name": "stdout",
     "output_type": "stream",
     "text": [
      "[0.67380995 0.30247819]\n"
     ]
    }
   ],
   "source": [
    "print(pca.explained_variance_ratio_)"
   ]
  },
  {
   "cell_type": "markdown",
   "id": "2e11a80e",
   "metadata": {},
   "source": [
    "pca_component1 은 67%, pca_component2 는 30% 의 변동성 비율을 가지고 있다.\n",
    "\n",
    "이번엔 RandomForestClassifier 를 이용해 원본 데이터와 PCA로 변환된 데이터 세트를 각 분류하고 결과를 비교한다."
   ]
  },
  {
   "cell_type": "code",
   "execution_count": 20,
   "id": "26a48004",
   "metadata": {},
   "outputs": [
    {
     "name": "stdout",
     "output_type": "stream",
     "text": [
      "원본 데이터 교차 검증 개별 정확도 : [0.98 0.94 0.96]\n",
      "원본 데이터 평균 정확도: 0.96\n"
     ]
    }
   ],
   "source": [
    "from sklearn.ensemble import RandomForestClassifier\n",
    "from sklearn.model_selection import cross_val_score\n",
    "import numpy as np\n",
    "\n",
    "rcf = RandomForestClassifier(random_state = 156)\n",
    "scores = cross_val_score(rcf, iris_data.data, iris_data.target, scoring='accuracy', cv=3)\n",
    "print('원본 데이터 교차 검증 개별 정확도 :',scores)\n",
    "print('원본 데이터 평균 정확도:', np.mean(scores))"
   ]
  },
  {
   "cell_type": "code",
   "execution_count": 23,
   "id": "aee2de42",
   "metadata": {},
   "outputs": [
    {
     "name": "stdout",
     "output_type": "stream",
     "text": [
      "PCA 변환 데이터 교차 검증 개별 정확도 : [0.82 0.82 0.88]\n",
      "PCA 변환 데이터 평균 정확도 : 0.84\n"
     ]
    }
   ],
   "source": [
    "pca_X = irisDF_pca[['pca_component1','pca_component2']]\n",
    "scores_pca = cross_val_score(rcf, pca_X, iris_data.target, scoring='accuracy',cv=3)\n",
    "print('PCA 변환 데이터 교차 검증 개별 정확도 :',scores_pca)\n",
    "print('PCA 변환 데이터 평균 정확도 :',np.mean(scores_pca))"
   ]
  },
  {
   "cell_type": "markdown",
   "id": "454e0486",
   "metadata": {},
   "source": [
    "정확도가 약 10% 하락한 것을 볼 수있다. 하지만 피처 갯수가 50%로 감소했음에도 84%의 정확도를 가지고 있는것은 어느정도 피처의 특성을 잘 유지했다고도 볼 수 있다."
   ]
  },
  {
   "cell_type": "code",
   "execution_count": null,
   "id": "f89f8bcd",
   "metadata": {},
   "outputs": [],
   "source": []
  }
 ],
 "metadata": {
  "kernelspec": {
   "display_name": "Python 3",
   "language": "python",
   "name": "python3"
  },
  "language_info": {
   "codemirror_mode": {
    "name": "ipython",
    "version": 3
   },
   "file_extension": ".py",
   "mimetype": "text/x-python",
   "name": "python",
   "nbconvert_exporter": "python",
   "pygments_lexer": "ipython3",
   "version": "3.8.2"
  }
 },
 "nbformat": 4,
 "nbformat_minor": 5
}
